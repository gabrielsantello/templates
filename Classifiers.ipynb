{
 "cells": [
  {
   "cell_type": "markdown",
   "id": "d5a76504",
   "metadata": {},
   "source": [
    "# Classifiers Template"
   ]
  },
  {
   "cell_type": "markdown",
   "id": "055bacdf",
   "metadata": {
    "_cell_guid": "b1076dfc-b9ad-4769-8c92-a6c4dae69d19",
    "_uuid": "8f2839f25d086af736a60e9eeb907d3b93b6e0e5",
    "execution": {
     "iopub.execute_input": "2022-07-20T13:44:09.526848Z",
     "iopub.status.busy": "2022-07-20T13:44:09.526479Z",
     "iopub.status.idle": "2022-07-20T13:44:09.537005Z",
     "shell.execute_reply": "2022-07-20T13:44:09.535814Z",
     "shell.execute_reply.started": "2022-07-20T13:44:09.526819Z"
    },
    "papermill": {
     "duration": 0.021277,
     "end_time": "2022-07-21T12:40:01.091925",
     "exception": false,
     "start_time": "2022-07-21T12:40:01.070648",
     "status": "completed"
    },
    "tags": []
   },
   "source": [
    "**Importing libraries**"
   ]
  },
  {
   "cell_type": "code",
   "execution_count": 1,
   "id": "1fc5d3f7",
   "metadata": {
    "execution": {
     "iopub.execute_input": "2022-07-21T12:40:01.137529Z",
     "iopub.status.busy": "2022-07-21T12:40:01.136923Z",
     "iopub.status.idle": "2022-07-21T12:40:02.714159Z",
     "shell.execute_reply": "2022-07-21T12:40:02.712988Z"
    },
    "papermill": {
     "duration": 1.6066,
     "end_time": "2022-07-21T12:40:02.717702",
     "exception": false,
     "start_time": "2022-07-21T12:40:01.111102",
     "status": "completed"
    },
    "tags": []
   },
   "outputs": [],
   "source": [
    "import numpy as np\n",
    "import pandas as pd\n",
    "\n",
    "from sklearn.model_selection import train_test_split\n",
    "from sklearn.preprocessing import StandardScaler\n",
    "from sklearn import linear_model\n",
    "from sklearn import tree\n",
    "from sklearn import ensemble\n",
    "from sklearn import naive_bayes\n",
    "from sklearn import neighbors\n",
    "from sklearn import svm\n",
    "from sklearn import metrics"
   ]
  },
  {
   "cell_type": "markdown",
   "id": "af540309",
   "metadata": {
    "papermill": {
     "duration": 0.020828,
     "end_time": "2022-07-21T12:40:02.766232",
     "exception": false,
     "start_time": "2022-07-21T12:40:02.745404",
     "status": "completed"
    },
    "tags": []
   },
   "source": [
    "**Loading the dataset**"
   ]
  },
  {
   "cell_type": "code",
   "execution_count": 2,
   "id": "df746ec3",
   "metadata": {
    "execution": {
     "iopub.execute_input": "2022-07-21T12:40:02.806792Z",
     "iopub.status.busy": "2022-07-21T12:40:02.806383Z",
     "iopub.status.idle": "2022-07-21T12:40:02.850390Z",
     "shell.execute_reply": "2022-07-21T12:40:02.849431Z"
    },
    "papermill": {
     "duration": 0.067306,
     "end_time": "2022-07-21T12:40:02.852950",
     "exception": false,
     "start_time": "2022-07-21T12:40:02.785644",
     "status": "completed"
    },
    "tags": []
   },
   "outputs": [],
   "source": [
    "df = pd.read_csv('Classifiers.csv')"
   ]
  },
  {
   "cell_type": "code",
   "execution_count": 3,
   "id": "0500cf5b",
   "metadata": {
    "execution": {
     "iopub.execute_input": "2022-07-21T12:40:02.894882Z",
     "iopub.status.busy": "2022-07-21T12:40:02.894153Z",
     "iopub.status.idle": "2022-07-21T12:40:02.918414Z",
     "shell.execute_reply": "2022-07-21T12:40:02.917369Z"
    },
    "papermill": {
     "duration": 0.047489,
     "end_time": "2022-07-21T12:40:02.920473",
     "exception": false,
     "start_time": "2022-07-21T12:40:02.872984",
     "status": "completed"
    },
    "tags": []
   },
   "outputs": [
    {
     "data": {
      "text/html": [
       "<div>\n",
       "<style scoped>\n",
       "    .dataframe tbody tr th:only-of-type {\n",
       "        vertical-align: middle;\n",
       "    }\n",
       "\n",
       "    .dataframe tbody tr th {\n",
       "        vertical-align: top;\n",
       "    }\n",
       "\n",
       "    .dataframe thead th {\n",
       "        text-align: right;\n",
       "    }\n",
       "</style>\n",
       "<table border=\"1\" class=\"dataframe\">\n",
       "  <thead>\n",
       "    <tr style=\"text-align: right;\">\n",
       "      <th></th>\n",
       "      <th>Age</th>\n",
       "      <th>EstimatedSalary</th>\n",
       "      <th>Purchased</th>\n",
       "    </tr>\n",
       "  </thead>\n",
       "  <tbody>\n",
       "    <tr>\n",
       "      <th>0</th>\n",
       "      <td>19</td>\n",
       "      <td>19000</td>\n",
       "      <td>0</td>\n",
       "    </tr>\n",
       "    <tr>\n",
       "      <th>1</th>\n",
       "      <td>35</td>\n",
       "      <td>20000</td>\n",
       "      <td>0</td>\n",
       "    </tr>\n",
       "    <tr>\n",
       "      <th>2</th>\n",
       "      <td>26</td>\n",
       "      <td>43000</td>\n",
       "      <td>0</td>\n",
       "    </tr>\n",
       "    <tr>\n",
       "      <th>3</th>\n",
       "      <td>27</td>\n",
       "      <td>57000</td>\n",
       "      <td>0</td>\n",
       "    </tr>\n",
       "    <tr>\n",
       "      <th>4</th>\n",
       "      <td>19</td>\n",
       "      <td>76000</td>\n",
       "      <td>0</td>\n",
       "    </tr>\n",
       "  </tbody>\n",
       "</table>\n",
       "</div>"
      ],
      "text/plain": [
       "   Age  EstimatedSalary  Purchased\n",
       "0   19            19000          0\n",
       "1   35            20000          0\n",
       "2   26            43000          0\n",
       "3   27            57000          0\n",
       "4   19            76000          0"
      ]
     },
     "execution_count": 3,
     "metadata": {},
     "output_type": "execute_result"
    }
   ],
   "source": [
    "df.head()"
   ]
  },
  {
   "cell_type": "markdown",
   "id": "206c438b",
   "metadata": {
    "papermill": {
     "duration": 0.039187,
     "end_time": "2022-07-21T12:40:21.237303",
     "exception": false,
     "start_time": "2022-07-21T12:40:21.198116",
     "status": "completed"
    },
    "tags": []
   },
   "source": [
    "## Setting up the data"
   ]
  },
  {
   "cell_type": "markdown",
   "id": "74de3dc8",
   "metadata": {
    "execution": {
     "iopub.execute_input": "2022-07-20T19:59:18.242006Z",
     "iopub.status.busy": "2022-07-20T19:59:18.241605Z",
     "iopub.status.idle": "2022-07-20T19:59:18.266691Z",
     "shell.execute_reply": "2022-07-20T19:59:18.265524Z",
     "shell.execute_reply.started": "2022-07-20T19:59:18.241973Z"
    },
    "papermill": {
     "duration": 0.039161,
     "end_time": "2022-07-21T12:40:21.874652",
     "exception": false,
     "start_time": "2022-07-21T12:40:21.835491",
     "status": "completed"
    },
    "tags": []
   },
   "source": [
    "**Train Test Split**"
   ]
  },
  {
   "cell_type": "code",
   "execution_count": 4,
   "id": "09e3dad9",
   "metadata": {
    "execution": {
     "iopub.execute_input": "2022-07-21T12:40:21.955987Z",
     "iopub.status.busy": "2022-07-21T12:40:21.955263Z",
     "iopub.status.idle": "2022-07-21T12:40:21.961102Z",
     "shell.execute_reply": "2022-07-21T12:40:21.960247Z"
    },
    "papermill": {
     "duration": 0.048834,
     "end_time": "2022-07-21T12:40:21.963154",
     "exception": false,
     "start_time": "2022-07-21T12:40:21.914320",
     "status": "completed"
    },
    "tags": []
   },
   "outputs": [],
   "source": [
    "X = df[[\"Age\",\"EstimatedSalary\"]].values\n",
    "y = df[\"Purchased\"].values"
   ]
  },
  {
   "cell_type": "code",
   "execution_count": 5,
   "id": "0f74459a",
   "metadata": {
    "execution": {
     "iopub.execute_input": "2022-07-21T12:40:22.044722Z",
     "iopub.status.busy": "2022-07-21T12:40:22.044027Z",
     "iopub.status.idle": "2022-07-21T12:40:22.049945Z",
     "shell.execute_reply": "2022-07-21T12:40:22.049139Z"
    },
    "papermill": {
     "duration": 0.049045,
     "end_time": "2022-07-21T12:40:22.052024",
     "exception": false,
     "start_time": "2022-07-21T12:40:22.002979",
     "status": "completed"
    },
    "tags": []
   },
   "outputs": [],
   "source": [
    "X_train, X_test, y_train, y_test = train_test_split(X, y, test_size=0.2, random_state=42)"
   ]
  },
  {
   "cell_type": "markdown",
   "id": "c7a53b8d",
   "metadata": {
    "papermill": {
     "duration": 0.040542,
     "end_time": "2022-07-21T12:40:22.132147",
     "exception": false,
     "start_time": "2022-07-21T12:40:22.091605",
     "status": "completed"
    },
    "tags": []
   },
   "source": [
    "## Training models and Evaluating Model Performance"
   ]
  },
  {
   "cell_type": "code",
   "execution_count": 6,
   "id": "0d08d08c",
   "metadata": {
    "execution": {
     "iopub.execute_input": "2022-07-21T12:40:22.214376Z",
     "iopub.status.busy": "2022-07-21T12:40:22.213567Z",
     "iopub.status.idle": "2022-07-21T12:40:22.219187Z",
     "shell.execute_reply": "2022-07-21T12:40:22.218322Z"
    },
    "papermill": {
     "duration": 0.049427,
     "end_time": "2022-07-21T12:40:22.221275",
     "exception": false,
     "start_time": "2022-07-21T12:40:22.171848",
     "status": "completed"
    },
    "tags": []
   },
   "outputs": [],
   "source": [
    "scaler = StandardScaler()\n",
    "X_train = scaler.fit_transform(X_train)\n",
    "X_test = scaler.transform(X_test)"
   ]
  },
  {
   "cell_type": "markdown",
   "id": "1686d8d4",
   "metadata": {},
   "source": [
    "### Classifiers"
   ]
  },
  {
   "cell_type": "code",
   "execution_count": 7,
   "id": "f6d42068",
   "metadata": {
    "execution": {
     "iopub.execute_input": "2022-07-21T12:40:22.302842Z",
     "iopub.status.busy": "2022-07-21T12:40:22.302179Z",
     "iopub.status.idle": "2022-07-21T12:40:23.105960Z",
     "shell.execute_reply": "2022-07-21T12:40:23.104452Z"
    },
    "papermill": {
     "duration": 0.848182,
     "end_time": "2022-07-21T12:40:23.109203",
     "exception": false,
     "start_time": "2022-07-21T12:40:22.261021",
     "status": "completed"
    },
    "tags": []
   },
   "outputs": [
    {
     "name": "stdout",
     "output_type": "stream",
     "text": [
      "AdaBoostClassifier(n_estimators=300)\n",
      "Confusion Matrix: \n",
      "[[49  3]\n",
      " [ 7 21]]\n",
      "F1-Score:  0.8076923076923077\n",
      "Accuracy:  0.875\n",
      "\n",
      "\n",
      "BaggingClassifier(n_estimators=300)\n",
      "Confusion Matrix: \n",
      "[[46  6]\n",
      " [ 4 24]]\n",
      "F1-Score:  0.8275862068965518\n",
      "Accuracy:  0.875\n",
      "\n",
      "\n",
      "ExtraTreesClassifier(n_estimators=300)\n",
      "Confusion Matrix: \n",
      "[[46  6]\n",
      " [ 4 24]]\n",
      "F1-Score:  0.8275862068965518\n",
      "Accuracy:  0.875\n",
      "\n",
      "\n",
      "GradientBoostingClassifier(n_estimators=300)\n",
      "Confusion Matrix: \n",
      "[[47  5]\n",
      " [ 4 24]]\n",
      "F1-Score:  0.8421052631578947\n",
      "Accuracy:  0.8875\n",
      "\n",
      "\n",
      "RandomForestClassifier(n_estimators=300)\n",
      "Confusion Matrix: \n",
      "[[46  6]\n",
      " [ 3 25]]\n",
      "F1-Score:  0.8474576271186439\n",
      "Accuracy:  0.8875\n",
      "\n",
      "\n",
      "PassiveAggressiveClassifier()\n",
      "Confusion Matrix: \n",
      "[[52  0]\n",
      " [11 17]]\n",
      "F1-Score:  0.7555555555555554\n",
      "Accuracy:  0.8625\n",
      "\n",
      "\n",
      "RidgeClassifier()\n",
      "Confusion Matrix: \n",
      "[[50  2]\n",
      " [ 9 19]]\n",
      "F1-Score:  0.7755102040816326\n",
      "Accuracy:  0.8625\n",
      "\n",
      "\n",
      "RidgeClassifierCV()\n",
      "Confusion Matrix: \n",
      "[[50  2]\n",
      " [ 9 19]]\n",
      "F1-Score:  0.7755102040816326\n",
      "Accuracy:  0.8625\n",
      "\n",
      "\n",
      "SGDClassifier()\n",
      "Confusion Matrix: \n",
      "[[39 13]\n",
      " [ 2 26]]\n",
      "F1-Score:  0.7761194029850746\n",
      "Accuracy:  0.8125\n",
      "\n",
      "\n",
      "BernoulliNB()\n",
      "Confusion Matrix: \n",
      "[[49  3]\n",
      " [14 14]]\n",
      "F1-Score:  0.6222222222222222\n",
      "Accuracy:  0.7875\n",
      "\n",
      "\n",
      "GaussianNB()\n",
      "Confusion Matrix: \n",
      "[[50  2]\n",
      " [ 3 25]]\n",
      "F1-Score:  0.9090909090909091\n",
      "Accuracy:  0.9375\n",
      "\n",
      "\n",
      "KNeighborsClassifier()\n",
      "Confusion Matrix: \n",
      "[[48  4]\n",
      " [ 3 25]]\n",
      "F1-Score:  0.8771929824561403\n",
      "Accuracy:  0.9125\n",
      "\n",
      "\n",
      "NearestCentroid()\n",
      "Confusion Matrix: \n",
      "[[46  6]\n",
      " [ 5 23]]\n",
      "F1-Score:  0.8070175438596492\n",
      "Accuracy:  0.8625\n",
      "\n",
      "\n",
      "LinearSVC()\n",
      "Confusion Matrix: \n",
      "[[50  2]\n",
      " [ 9 19]]\n",
      "F1-Score:  0.7755102040816326\n",
      "Accuracy:  0.8625\n",
      "\n",
      "\n",
      "NuSVC()\n",
      "Confusion Matrix: \n",
      "[[48  4]\n",
      " [ 2 26]]\n",
      "F1-Score:  0.896551724137931\n",
      "Accuracy:  0.925\n",
      "\n",
      "\n",
      "SVC()\n",
      "Confusion Matrix: \n",
      "[[47  5]\n",
      " [ 1 27]]\n",
      "F1-Score:  0.8999999999999999\n",
      "Accuracy:  0.925\n",
      "\n",
      "\n",
      "DecisionTreeClassifier(max_depth=3)\n",
      "Confusion Matrix: \n",
      "[[47  5]\n",
      " [ 2 26]]\n",
      "F1-Score:  0.8813559322033899\n",
      "Accuracy:  0.9125\n",
      "\n",
      "\n",
      "ExtraTreeClassifier(max_depth=3)\n",
      "Confusion Matrix: \n",
      "[[47  5]\n",
      " [14 14]]\n",
      "F1-Score:  0.5957446808510638\n",
      "Accuracy:  0.7625\n",
      "\n",
      "\n"
     ]
    }
   ],
   "source": [
    "classifiers = [\n",
    "    ensemble.AdaBoostClassifier(n_estimators=300),\n",
    "    ensemble.BaggingClassifier(n_estimators=300),\n",
    "    ensemble.ExtraTreesClassifier(n_estimators=300),\n",
    "    ensemble.GradientBoostingClassifier(n_estimators=300),\n",
    "    ensemble.RandomForestClassifier(n_estimators=300),\n",
    "    linear_model.PassiveAggressiveClassifier(),\n",
    "    linear_model.RidgeClassifier(),\n",
    "    linear_model.RidgeClassifierCV(),\n",
    "    linear_model.SGDClassifier(),\n",
    "    naive_bayes.BernoulliNB(),\n",
    "    naive_bayes.GaussianNB(),\n",
    "    neighbors.KNeighborsClassifier(),\n",
    "    neighbors.NearestCentroid(),\n",
    "    svm.LinearSVC(),\n",
    "    svm.NuSVC(),\n",
    "    svm.SVC(),\n",
    "    tree.DecisionTreeClassifier(max_depth=3),\n",
    "    tree.ExtraTreeClassifier(max_depth=3)\n",
    "]\n",
    "\n",
    "classification = pd.DataFrame(columns=['Classifier', 'Accuracy'], index=None)\n",
    "for item in classifiers:\n",
    "    print(item)\n",
    "    clf = item\n",
    "    clf.fit(X_train, y_train)\n",
    "    predictions = clf.predict(X_test)\n",
    "    classification = pd.concat([pd.DataFrame([[item, metrics.accuracy_score(y_test, predictions)]], columns=classification.columns, index=None), classification], ignore_index=True)\n",
    "    print(\"Confusion Matrix: \")\n",
    "    print(metrics.confusion_matrix(y_test, predictions))\n",
    "    print(\"F1-Score: \", metrics.f1_score(y_test, predictions))\n",
    "    print('Accuracy: ', metrics.accuracy_score(y_test, predictions))\n",
    "    print('\\n')"
   ]
  },
  {
   "cell_type": "code",
   "execution_count": 8,
   "id": "574309ce",
   "metadata": {},
   "outputs": [
    {
     "data": {
      "text/html": [
       "<div>\n",
       "<style scoped>\n",
       "    .dataframe tbody tr th:only-of-type {\n",
       "        vertical-align: middle;\n",
       "    }\n",
       "\n",
       "    .dataframe tbody tr th {\n",
       "        vertical-align: top;\n",
       "    }\n",
       "\n",
       "    .dataframe thead th {\n",
       "        text-align: right;\n",
       "    }\n",
       "</style>\n",
       "<table border=\"1\" class=\"dataframe\">\n",
       "  <thead>\n",
       "    <tr style=\"text-align: right;\">\n",
       "      <th></th>\n",
       "      <th>Classifier</th>\n",
       "      <th>Accuracy</th>\n",
       "    </tr>\n",
       "  </thead>\n",
       "  <tbody>\n",
       "    <tr>\n",
       "      <th>7</th>\n",
       "      <td>GaussianNB()</td>\n",
       "      <td>0.9375</td>\n",
       "    </tr>\n",
       "  </tbody>\n",
       "</table>\n",
       "</div>"
      ],
      "text/plain": [
       "     Classifier  Accuracy\n",
       "7  GaussianNB()    0.9375"
      ]
     },
     "execution_count": 8,
     "metadata": {},
     "output_type": "execute_result"
    }
   ],
   "source": [
    "classification[classification['Accuracy'] == classification['Accuracy'].max()]"
   ]
  }
 ],
 "metadata": {
  "kernelspec": {
   "display_name": "Python 3 (ipykernel)",
   "language": "python",
   "name": "python3"
  },
  "language_info": {
   "codemirror_mode": {
    "name": "ipython",
    "version": 3
   },
   "file_extension": ".py",
   "mimetype": "text/x-python",
   "name": "python",
   "nbconvert_exporter": "python",
   "pygments_lexer": "ipython3",
   "version": "3.9.12"
  },
  "papermill": {
   "default_parameters": {},
   "duration": 34.349284,
   "end_time": "2022-07-21T12:40:25.440848",
   "environment_variables": {},
   "exception": null,
   "input_path": "__notebook__.ipynb",
   "output_path": "__notebook__.ipynb",
   "parameters": {},
   "start_time": "2022-07-21T12:39:51.091564",
   "version": "2.3.4"
  }
 },
 "nbformat": 4,
 "nbformat_minor": 5
}
