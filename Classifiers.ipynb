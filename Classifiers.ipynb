{
 "cells": [
  {
   "cell_type": "markdown",
   "id": "d5a76504",
   "metadata": {},
   "source": [
    "# Classifiers Template"
   ]
  },
  {
   "cell_type": "markdown",
   "id": "055bacdf",
   "metadata": {
    "_cell_guid": "b1076dfc-b9ad-4769-8c92-a6c4dae69d19",
    "_uuid": "8f2839f25d086af736a60e9eeb907d3b93b6e0e5",
    "execution": {
     "iopub.execute_input": "2022-07-20T13:44:09.526848Z",
     "iopub.status.busy": "2022-07-20T13:44:09.526479Z",
     "iopub.status.idle": "2022-07-20T13:44:09.537005Z",
     "shell.execute_reply": "2022-07-20T13:44:09.535814Z",
     "shell.execute_reply.started": "2022-07-20T13:44:09.526819Z"
    },
    "papermill": {
     "duration": 0.021277,
     "end_time": "2022-07-21T12:40:01.091925",
     "exception": false,
     "start_time": "2022-07-21T12:40:01.070648",
     "status": "completed"
    },
    "tags": []
   },
   "source": [
    "**Importing libraries**"
   ]
  },
  {
   "cell_type": "code",
   "execution_count": 1,
   "id": "1fc5d3f7",
   "metadata": {
    "execution": {
     "iopub.execute_input": "2022-07-21T12:40:01.137529Z",
     "iopub.status.busy": "2022-07-21T12:40:01.136923Z",
     "iopub.status.idle": "2022-07-21T12:40:02.714159Z",
     "shell.execute_reply": "2022-07-21T12:40:02.712988Z"
    },
    "papermill": {
     "duration": 1.6066,
     "end_time": "2022-07-21T12:40:02.717702",
     "exception": false,
     "start_time": "2022-07-21T12:40:01.111102",
     "status": "completed"
    },
    "tags": []
   },
   "outputs": [],
   "source": [
    "import numpy as np\n",
    "import pandas as pd\n",
    "\n",
    "from sklearn.model_selection import train_test_split\n",
    "from sklearn.preprocessing import StandardScaler\n",
    "from sklearn import linear_model\n",
    "from sklearn import tree\n",
    "from sklearn import ensemble\n",
    "from sklearn import naive_bayes\n",
    "from sklearn import neighbors\n",
    "from sklearn import svm\n",
    "from sklearn import metrics"
   ]
  },
  {
   "cell_type": "markdown",
   "id": "af540309",
   "metadata": {
    "papermill": {
     "duration": 0.020828,
     "end_time": "2022-07-21T12:40:02.766232",
     "exception": false,
     "start_time": "2022-07-21T12:40:02.745404",
     "status": "completed"
    },
    "tags": []
   },
   "source": [
    "**Loading the dataset**"
   ]
  },
  {
   "cell_type": "code",
   "execution_count": 2,
   "id": "df746ec3",
   "metadata": {
    "execution": {
     "iopub.execute_input": "2022-07-21T12:40:02.806792Z",
     "iopub.status.busy": "2022-07-21T12:40:02.806383Z",
     "iopub.status.idle": "2022-07-21T12:40:02.850390Z",
     "shell.execute_reply": "2022-07-21T12:40:02.849431Z"
    },
    "papermill": {
     "duration": 0.067306,
     "end_time": "2022-07-21T12:40:02.852950",
     "exception": false,
     "start_time": "2022-07-21T12:40:02.785644",
     "status": "completed"
    },
    "tags": []
   },
   "outputs": [],
   "source": [
    "df = pd.read_csv('Classifiers.csv')"
   ]
  },
  {
   "cell_type": "code",
   "execution_count": 3,
   "id": "0500cf5b",
   "metadata": {
    "execution": {
     "iopub.execute_input": "2022-07-21T12:40:02.894882Z",
     "iopub.status.busy": "2022-07-21T12:40:02.894153Z",
     "iopub.status.idle": "2022-07-21T12:40:02.918414Z",
     "shell.execute_reply": "2022-07-21T12:40:02.917369Z"
    },
    "papermill": {
     "duration": 0.047489,
     "end_time": "2022-07-21T12:40:02.920473",
     "exception": false,
     "start_time": "2022-07-21T12:40:02.872984",
     "status": "completed"
    },
    "tags": []
   },
   "outputs": [
    {
     "data": {
      "text/html": [
       "<div>\n",
       "<style scoped>\n",
       "    .dataframe tbody tr th:only-of-type {\n",
       "        vertical-align: middle;\n",
       "    }\n",
       "\n",
       "    .dataframe tbody tr th {\n",
       "        vertical-align: top;\n",
       "    }\n",
       "\n",
       "    .dataframe thead th {\n",
       "        text-align: right;\n",
       "    }\n",
       "</style>\n",
       "<table border=\"1\" class=\"dataframe\">\n",
       "  <thead>\n",
       "    <tr style=\"text-align: right;\">\n",
       "      <th></th>\n",
       "      <th>Daily Time Spent on Site</th>\n",
       "      <th>Age</th>\n",
       "      <th>Area Income</th>\n",
       "      <th>Daily Internet Usage</th>\n",
       "      <th>Ad Topic Line</th>\n",
       "      <th>City</th>\n",
       "      <th>Male</th>\n",
       "      <th>Country</th>\n",
       "      <th>Timestamp</th>\n",
       "      <th>Clicked on Ad</th>\n",
       "    </tr>\n",
       "  </thead>\n",
       "  <tbody>\n",
       "    <tr>\n",
       "      <th>0</th>\n",
       "      <td>68.95</td>\n",
       "      <td>35</td>\n",
       "      <td>61833.90</td>\n",
       "      <td>256.09</td>\n",
       "      <td>Cloned 5thgeneration orchestration</td>\n",
       "      <td>Wrightburgh</td>\n",
       "      <td>0</td>\n",
       "      <td>Tunisia</td>\n",
       "      <td>2016-03-27 00:53:11</td>\n",
       "      <td>0</td>\n",
       "    </tr>\n",
       "    <tr>\n",
       "      <th>1</th>\n",
       "      <td>80.23</td>\n",
       "      <td>31</td>\n",
       "      <td>68441.85</td>\n",
       "      <td>193.77</td>\n",
       "      <td>Monitored national standardization</td>\n",
       "      <td>West Jodi</td>\n",
       "      <td>1</td>\n",
       "      <td>Nauru</td>\n",
       "      <td>2016-04-04 01:39:02</td>\n",
       "      <td>0</td>\n",
       "    </tr>\n",
       "    <tr>\n",
       "      <th>2</th>\n",
       "      <td>69.47</td>\n",
       "      <td>26</td>\n",
       "      <td>59785.94</td>\n",
       "      <td>236.50</td>\n",
       "      <td>Organic bottom-line service-desk</td>\n",
       "      <td>Davidton</td>\n",
       "      <td>0</td>\n",
       "      <td>San Marino</td>\n",
       "      <td>2016-03-13 20:35:42</td>\n",
       "      <td>0</td>\n",
       "    </tr>\n",
       "    <tr>\n",
       "      <th>3</th>\n",
       "      <td>74.15</td>\n",
       "      <td>29</td>\n",
       "      <td>54806.18</td>\n",
       "      <td>245.89</td>\n",
       "      <td>Triple-buffered reciprocal time-frame</td>\n",
       "      <td>West Terrifurt</td>\n",
       "      <td>1</td>\n",
       "      <td>Italy</td>\n",
       "      <td>2016-01-10 02:31:19</td>\n",
       "      <td>0</td>\n",
       "    </tr>\n",
       "    <tr>\n",
       "      <th>4</th>\n",
       "      <td>68.37</td>\n",
       "      <td>35</td>\n",
       "      <td>73889.99</td>\n",
       "      <td>225.58</td>\n",
       "      <td>Robust logistical utilization</td>\n",
       "      <td>South Manuel</td>\n",
       "      <td>0</td>\n",
       "      <td>Iceland</td>\n",
       "      <td>2016-06-03 03:36:18</td>\n",
       "      <td>0</td>\n",
       "    </tr>\n",
       "  </tbody>\n",
       "</table>\n",
       "</div>"
      ],
      "text/plain": [
       "   Daily Time Spent on Site  Age  Area Income  Daily Internet Usage  \\\n",
       "0                     68.95   35     61833.90                256.09   \n",
       "1                     80.23   31     68441.85                193.77   \n",
       "2                     69.47   26     59785.94                236.50   \n",
       "3                     74.15   29     54806.18                245.89   \n",
       "4                     68.37   35     73889.99                225.58   \n",
       "\n",
       "                           Ad Topic Line            City  Male     Country  \\\n",
       "0     Cloned 5thgeneration orchestration     Wrightburgh     0     Tunisia   \n",
       "1     Monitored national standardization       West Jodi     1       Nauru   \n",
       "2       Organic bottom-line service-desk        Davidton     0  San Marino   \n",
       "3  Triple-buffered reciprocal time-frame  West Terrifurt     1       Italy   \n",
       "4          Robust logistical utilization    South Manuel     0     Iceland   \n",
       "\n",
       "             Timestamp  Clicked on Ad  \n",
       "0  2016-03-27 00:53:11              0  \n",
       "1  2016-04-04 01:39:02              0  \n",
       "2  2016-03-13 20:35:42              0  \n",
       "3  2016-01-10 02:31:19              0  \n",
       "4  2016-06-03 03:36:18              0  "
      ]
     },
     "execution_count": 3,
     "metadata": {},
     "output_type": "execute_result"
    }
   ],
   "source": [
    "df.head()"
   ]
  },
  {
   "cell_type": "markdown",
   "id": "206c438b",
   "metadata": {
    "papermill": {
     "duration": 0.039187,
     "end_time": "2022-07-21T12:40:21.237303",
     "exception": false,
     "start_time": "2022-07-21T12:40:21.198116",
     "status": "completed"
    },
    "tags": []
   },
   "source": [
    "## Setting up the data"
   ]
  },
  {
   "cell_type": "markdown",
   "id": "74de3dc8",
   "metadata": {
    "execution": {
     "iopub.execute_input": "2022-07-20T19:59:18.242006Z",
     "iopub.status.busy": "2022-07-20T19:59:18.241605Z",
     "iopub.status.idle": "2022-07-20T19:59:18.266691Z",
     "shell.execute_reply": "2022-07-20T19:59:18.265524Z",
     "shell.execute_reply.started": "2022-07-20T19:59:18.241973Z"
    },
    "papermill": {
     "duration": 0.039161,
     "end_time": "2022-07-21T12:40:21.874652",
     "exception": false,
     "start_time": "2022-07-21T12:40:21.835491",
     "status": "completed"
    },
    "tags": []
   },
   "source": [
    "**Train Test Split**"
   ]
  },
  {
   "cell_type": "code",
   "execution_count": 4,
   "id": "09e3dad9",
   "metadata": {
    "execution": {
     "iopub.execute_input": "2022-07-21T12:40:21.955987Z",
     "iopub.status.busy": "2022-07-21T12:40:21.955263Z",
     "iopub.status.idle": "2022-07-21T12:40:21.961102Z",
     "shell.execute_reply": "2022-07-21T12:40:21.960247Z"
    },
    "papermill": {
     "duration": 0.048834,
     "end_time": "2022-07-21T12:40:21.963154",
     "exception": false,
     "start_time": "2022-07-21T12:40:21.914320",
     "status": "completed"
    },
    "tags": []
   },
   "outputs": [],
   "source": [
    "X = df[[\"Daily Time Spent on Site\", \"Age\", \"Area Income\", \"Daily Internet Usage\", \"Male\"]].values\n",
    "y = df[\"Clicked on Ad\"].values"
   ]
  },
  {
   "cell_type": "code",
   "execution_count": 5,
   "id": "0f74459a",
   "metadata": {
    "execution": {
     "iopub.execute_input": "2022-07-21T12:40:22.044722Z",
     "iopub.status.busy": "2022-07-21T12:40:22.044027Z",
     "iopub.status.idle": "2022-07-21T12:40:22.049945Z",
     "shell.execute_reply": "2022-07-21T12:40:22.049139Z"
    },
    "papermill": {
     "duration": 0.049045,
     "end_time": "2022-07-21T12:40:22.052024",
     "exception": false,
     "start_time": "2022-07-21T12:40:22.002979",
     "status": "completed"
    },
    "tags": []
   },
   "outputs": [],
   "source": [
    "X_train, X_test, y_train, y_test = train_test_split(X, y, test_size=0.2, random_state=42)"
   ]
  },
  {
   "cell_type": "markdown",
   "id": "c7a53b8d",
   "metadata": {
    "papermill": {
     "duration": 0.040542,
     "end_time": "2022-07-21T12:40:22.132147",
     "exception": false,
     "start_time": "2022-07-21T12:40:22.091605",
     "status": "completed"
    },
    "tags": []
   },
   "source": [
    "## Training models and Evaluating Model Performance"
   ]
  },
  {
   "cell_type": "code",
   "execution_count": 6,
   "id": "0d08d08c",
   "metadata": {
    "execution": {
     "iopub.execute_input": "2022-07-21T12:40:22.214376Z",
     "iopub.status.busy": "2022-07-21T12:40:22.213567Z",
     "iopub.status.idle": "2022-07-21T12:40:22.219187Z",
     "shell.execute_reply": "2022-07-21T12:40:22.218322Z"
    },
    "papermill": {
     "duration": 0.049427,
     "end_time": "2022-07-21T12:40:22.221275",
     "exception": false,
     "start_time": "2022-07-21T12:40:22.171848",
     "status": "completed"
    },
    "tags": []
   },
   "outputs": [],
   "source": [
    "scaler = StandardScaler()\n",
    "X_train = scaler.fit_transform(X_train)\n",
    "X_test = scaler.transform(X_test)"
   ]
  },
  {
   "cell_type": "markdown",
   "id": "1686d8d4",
   "metadata": {},
   "source": [
    "### Classifiers"
   ]
  },
  {
   "cell_type": "code",
   "execution_count": 7,
   "id": "f6d42068",
   "metadata": {
    "execution": {
     "iopub.execute_input": "2022-07-21T12:40:22.302842Z",
     "iopub.status.busy": "2022-07-21T12:40:22.302179Z",
     "iopub.status.idle": "2022-07-21T12:40:23.105960Z",
     "shell.execute_reply": "2022-07-21T12:40:23.104452Z"
    },
    "papermill": {
     "duration": 0.848182,
     "end_time": "2022-07-21T12:40:23.109203",
     "exception": false,
     "start_time": "2022-07-21T12:40:22.261021",
     "status": "completed"
    },
    "tags": []
   },
   "outputs": [
    {
     "name": "stdout",
     "output_type": "stream",
     "text": [
      "AdaBoostClassifier(n_estimators=300)\n",
      "Confusion Matrix: \n",
      "[[ 80   9]\n",
      " [  9 102]]\n",
      "F1-Score:  0.918918918918919\n",
      "Accuracy:  0.91\n",
      "\n",
      "\n",
      "BaggingClassifier(n_estimators=300)\n",
      "Confusion Matrix: \n",
      "[[ 81   8]\n",
      " [  7 104]]\n",
      "F1-Score:  0.9327354260089685\n",
      "Accuracy:  0.925\n",
      "\n",
      "\n",
      "ExtraTreesClassifier(n_estimators=300)\n",
      "Confusion Matrix: \n",
      "[[ 84   5]\n",
      " [  8 103]]\n",
      "F1-Score:  0.9406392694063928\n",
      "Accuracy:  0.935\n",
      "\n",
      "\n",
      "GradientBoostingClassifier(n_estimators=300)\n",
      "Confusion Matrix: \n",
      "[[ 83   6]\n",
      " [  8 103]]\n",
      "F1-Score:  0.9363636363636363\n",
      "Accuracy:  0.93\n",
      "\n",
      "\n",
      "RandomForestClassifier(n_estimators=300)\n",
      "Confusion Matrix: \n",
      "[[ 84   5]\n",
      " [  8 103]]\n",
      "F1-Score:  0.9406392694063928\n",
      "Accuracy:  0.935\n",
      "\n",
      "\n",
      "PassiveAggressiveClassifier()\n",
      "Confusion Matrix: \n",
      "[[ 81   8]\n",
      " [  8 103]]\n",
      "F1-Score:  0.9279279279279279\n",
      "Accuracy:  0.92\n",
      "\n",
      "\n",
      "RidgeClassifier()\n",
      "Confusion Matrix: \n",
      "[[ 87   2]\n",
      " [ 10 101]]\n",
      "F1-Score:  0.9439252336448598\n",
      "Accuracy:  0.94\n",
      "\n",
      "\n",
      "RidgeClassifierCV()\n",
      "Confusion Matrix: \n",
      "[[ 87   2]\n",
      " [ 10 101]]\n",
      "F1-Score:  0.9439252336448598\n",
      "Accuracy:  0.94\n",
      "\n",
      "\n",
      "SGDClassifier()\n",
      "Confusion Matrix: \n",
      "[[ 84   5]\n",
      " [  6 105]]\n",
      "F1-Score:  0.9502262443438914\n",
      "Accuracy:  0.945\n",
      "\n",
      "\n",
      "BernoulliNB()\n",
      "Confusion Matrix: \n",
      "[[ 76  13]\n",
      " [  7 104]]\n",
      "F1-Score:  0.9122807017543859\n",
      "Accuracy:  0.9\n",
      "\n",
      "\n",
      "GaussianNB()\n",
      "Confusion Matrix: \n",
      "[[ 83   6]\n",
      " [  5 106]]\n",
      "F1-Score:  0.9506726457399103\n",
      "Accuracy:  0.945\n",
      "\n",
      "\n",
      "KNeighborsClassifier()\n",
      "Confusion Matrix: \n",
      "[[ 85   4]\n",
      " [ 11 100]]\n",
      "F1-Score:  0.930232558139535\n",
      "Accuracy:  0.925\n",
      "\n",
      "\n",
      "NearestCentroid()\n",
      "Confusion Matrix: \n",
      "[[88  1]\n",
      " [13 98]]\n",
      "F1-Score:  0.9333333333333333\n",
      "Accuracy:  0.93\n",
      "\n",
      "\n",
      "LinearSVC()\n",
      "Confusion Matrix: \n",
      "[[ 84   5]\n",
      " [  5 106]]\n",
      "F1-Score:  0.954954954954955\n",
      "Accuracy:  0.95\n",
      "\n",
      "\n",
      "NuSVC()\n",
      "Confusion Matrix: \n",
      "[[ 87   2]\n",
      " [  7 104]]\n",
      "F1-Score:  0.9585253456221199\n",
      "Accuracy:  0.955\n",
      "\n",
      "\n",
      "SVC()\n",
      "Confusion Matrix: \n",
      "[[ 84   5]\n",
      " [  6 105]]\n",
      "F1-Score:  0.9502262443438914\n",
      "Accuracy:  0.945\n",
      "\n",
      "\n",
      "DecisionTreeClassifier(max_depth=3)\n",
      "Confusion Matrix: \n",
      "[[ 81   8]\n",
      " [  9 102]]\n",
      "F1-Score:  0.9230769230769231\n",
      "Accuracy:  0.915\n",
      "\n",
      "\n",
      "ExtraTreeClassifier(max_depth=3)\n",
      "Confusion Matrix: \n",
      "[[80  9]\n",
      " [15 96]]\n",
      "F1-Score:  0.888888888888889\n",
      "Accuracy:  0.88\n",
      "\n",
      "\n"
     ]
    }
   ],
   "source": [
    "classifiers = [\n",
    "    ensemble.AdaBoostClassifier(n_estimators=300),\n",
    "    ensemble.BaggingClassifier(n_estimators=300),\n",
    "    ensemble.ExtraTreesClassifier(n_estimators=300),\n",
    "    ensemble.GradientBoostingClassifier(n_estimators=300),\n",
    "    ensemble.RandomForestClassifier(n_estimators=300),\n",
    "    linear_model.PassiveAggressiveClassifier(),\n",
    "    linear_model.RidgeClassifier(),\n",
    "    linear_model.RidgeClassifierCV(),\n",
    "    linear_model.SGDClassifier(),\n",
    "    naive_bayes.BernoulliNB(),\n",
    "    naive_bayes.GaussianNB(),\n",
    "    neighbors.KNeighborsClassifier(),\n",
    "    neighbors.NearestCentroid(),\n",
    "    svm.LinearSVC(),\n",
    "    svm.NuSVC(),\n",
    "    svm.SVC(),\n",
    "    tree.DecisionTreeClassifier(max_depth=3),\n",
    "    tree.ExtraTreeClassifier(max_depth=3)\n",
    "]\n",
    "\n",
    "classification = pd.DataFrame(columns=['Classifier', 'Accuracy'], index=None)\n",
    "for item in classifiers:\n",
    "    print(item)\n",
    "    clf = item\n",
    "    clf.fit(X_train, y_train)\n",
    "    predictions = clf.predict(X_test)\n",
    "    classification = pd.concat([pd.DataFrame([[item, metrics.accuracy_score(y_test, predictions)]], columns=classification.columns, index=None), classification], ignore_index=True)\n",
    "    print(\"Confusion Matrix: \")\n",
    "    print(metrics.confusion_matrix(y_test, predictions))\n",
    "    print(\"F1-Score: \", metrics.f1_score(y_test, predictions))\n",
    "    print('Accuracy: ', metrics.accuracy_score(y_test, predictions))\n",
    "    print('\\n')"
   ]
  },
  {
   "cell_type": "code",
   "execution_count": 8,
   "id": "574309ce",
   "metadata": {},
   "outputs": [
    {
     "data": {
      "text/html": [
       "<div>\n",
       "<style scoped>\n",
       "    .dataframe tbody tr th:only-of-type {\n",
       "        vertical-align: middle;\n",
       "    }\n",
       "\n",
       "    .dataframe tbody tr th {\n",
       "        vertical-align: top;\n",
       "    }\n",
       "\n",
       "    .dataframe thead th {\n",
       "        text-align: right;\n",
       "    }\n",
       "</style>\n",
       "<table border=\"1\" class=\"dataframe\">\n",
       "  <thead>\n",
       "    <tr style=\"text-align: right;\">\n",
       "      <th></th>\n",
       "      <th>Classifier</th>\n",
       "      <th>Accuracy</th>\n",
       "    </tr>\n",
       "  </thead>\n",
       "  <tbody>\n",
       "    <tr>\n",
       "      <th>3</th>\n",
       "      <td>NuSVC()</td>\n",
       "      <td>0.955</td>\n",
       "    </tr>\n",
       "  </tbody>\n",
       "</table>\n",
       "</div>"
      ],
      "text/plain": [
       "  Classifier  Accuracy\n",
       "3    NuSVC()     0.955"
      ]
     },
     "execution_count": 8,
     "metadata": {},
     "output_type": "execute_result"
    }
   ],
   "source": [
    "classification[classification['Accuracy'] == classification['Accuracy'].max()]"
   ]
  }
 ],
 "metadata": {
  "kernelspec": {
   "display_name": "Python 3 (ipykernel)",
   "language": "python",
   "name": "python3"
  },
  "language_info": {
   "codemirror_mode": {
    "name": "ipython",
    "version": 3
   },
   "file_extension": ".py",
   "mimetype": "text/x-python",
   "name": "python",
   "nbconvert_exporter": "python",
   "pygments_lexer": "ipython3",
   "version": "3.9.12"
  },
  "papermill": {
   "default_parameters": {},
   "duration": 34.349284,
   "end_time": "2022-07-21T12:40:25.440848",
   "environment_variables": {},
   "exception": null,
   "input_path": "__notebook__.ipynb",
   "output_path": "__notebook__.ipynb",
   "parameters": {},
   "start_time": "2022-07-21T12:39:51.091564",
   "version": "2.3.4"
  }
 },
 "nbformat": 4,
 "nbformat_minor": 5
}
