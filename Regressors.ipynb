{
 "cells": [
  {
   "cell_type": "markdown",
   "id": "d5a76504",
   "metadata": {},
   "source": [
    "# Regressors Template"
   ]
  },
  {
   "cell_type": "markdown",
   "id": "055bacdf",
   "metadata": {
    "_cell_guid": "b1076dfc-b9ad-4769-8c92-a6c4dae69d19",
    "_uuid": "8f2839f25d086af736a60e9eeb907d3b93b6e0e5",
    "execution": {
     "iopub.execute_input": "2022-07-20T13:44:09.526848Z",
     "iopub.status.busy": "2022-07-20T13:44:09.526479Z",
     "iopub.status.idle": "2022-07-20T13:44:09.537005Z",
     "shell.execute_reply": "2022-07-20T13:44:09.535814Z",
     "shell.execute_reply.started": "2022-07-20T13:44:09.526819Z"
    },
    "papermill": {
     "duration": 0.021277,
     "end_time": "2022-07-21T12:40:01.091925",
     "exception": false,
     "start_time": "2022-07-21T12:40:01.070648",
     "status": "completed"
    },
    "tags": []
   },
   "source": [
    "**Importing libraries**"
   ]
  },
  {
   "cell_type": "code",
   "execution_count": 1,
   "id": "1fc5d3f7",
   "metadata": {
    "execution": {
     "iopub.execute_input": "2022-07-21T12:40:01.137529Z",
     "iopub.status.busy": "2022-07-21T12:40:01.136923Z",
     "iopub.status.idle": "2022-07-21T12:40:02.714159Z",
     "shell.execute_reply": "2022-07-21T12:40:02.712988Z"
    },
    "papermill": {
     "duration": 1.6066,
     "end_time": "2022-07-21T12:40:02.717702",
     "exception": false,
     "start_time": "2022-07-21T12:40:01.111102",
     "status": "completed"
    },
    "tags": []
   },
   "outputs": [],
   "source": [
    "import numpy as np\n",
    "import pandas as pd\n",
    "import matplotlib.pyplot as plt\n",
    "import seaborn as sns\n",
    "\n",
    "from sklearn.model_selection import train_test_split\n",
    "from sklearn.preprocessing import StandardScaler\n",
    "from sklearn import linear_model\n",
    "from sklearn import tree\n",
    "from sklearn import ensemble\n",
    "from sklearn import svm\n",
    "from sklearn import neighbors\n",
    "from sklearn.preprocessing import PolynomialFeatures\n",
    "from sklearn import metrics"
   ]
  },
  {
   "cell_type": "markdown",
   "id": "af540309",
   "metadata": {
    "papermill": {
     "duration": 0.020828,
     "end_time": "2022-07-21T12:40:02.766232",
     "exception": false,
     "start_time": "2022-07-21T12:40:02.745404",
     "status": "completed"
    },
    "tags": []
   },
   "source": [
    "**Loading the dataset**"
   ]
  },
  {
   "cell_type": "code",
   "execution_count": 2,
   "id": "df746ec3",
   "metadata": {
    "execution": {
     "iopub.execute_input": "2022-07-21T12:40:02.806792Z",
     "iopub.status.busy": "2022-07-21T12:40:02.806383Z",
     "iopub.status.idle": "2022-07-21T12:40:02.850390Z",
     "shell.execute_reply": "2022-07-21T12:40:02.849431Z"
    },
    "papermill": {
     "duration": 0.067306,
     "end_time": "2022-07-21T12:40:02.852950",
     "exception": false,
     "start_time": "2022-07-21T12:40:02.785644",
     "status": "completed"
    },
    "tags": []
   },
   "outputs": [],
   "source": [
    "df = pd.read_csv('Regressors.csv')"
   ]
  },
  {
   "cell_type": "code",
   "execution_count": 3,
   "id": "0500cf5b",
   "metadata": {
    "execution": {
     "iopub.execute_input": "2022-07-21T12:40:02.894882Z",
     "iopub.status.busy": "2022-07-21T12:40:02.894153Z",
     "iopub.status.idle": "2022-07-21T12:40:02.918414Z",
     "shell.execute_reply": "2022-07-21T12:40:02.917369Z"
    },
    "papermill": {
     "duration": 0.047489,
     "end_time": "2022-07-21T12:40:02.920473",
     "exception": false,
     "start_time": "2022-07-21T12:40:02.872984",
     "status": "completed"
    },
    "tags": []
   },
   "outputs": [
    {
     "data": {
      "text/html": [
       "<div>\n",
       "<style scoped>\n",
       "    .dataframe tbody tr th:only-of-type {\n",
       "        vertical-align: middle;\n",
       "    }\n",
       "\n",
       "    .dataframe tbody tr th {\n",
       "        vertical-align: top;\n",
       "    }\n",
       "\n",
       "    .dataframe thead th {\n",
       "        text-align: right;\n",
       "    }\n",
       "</style>\n",
       "<table border=\"1\" class=\"dataframe\">\n",
       "  <thead>\n",
       "    <tr style=\"text-align: right;\">\n",
       "      <th></th>\n",
       "      <th>X</th>\n",
       "      <th>Y</th>\n",
       "    </tr>\n",
       "  </thead>\n",
       "  <tbody>\n",
       "    <tr>\n",
       "      <th>0</th>\n",
       "      <td>1</td>\n",
       "      <td>3.888889</td>\n",
       "    </tr>\n",
       "    <tr>\n",
       "      <th>1</th>\n",
       "      <td>2</td>\n",
       "      <td>4.555556</td>\n",
       "    </tr>\n",
       "    <tr>\n",
       "      <th>2</th>\n",
       "      <td>3</td>\n",
       "      <td>5.222222</td>\n",
       "    </tr>\n",
       "    <tr>\n",
       "      <th>3</th>\n",
       "      <td>4</td>\n",
       "      <td>5.888889</td>\n",
       "    </tr>\n",
       "    <tr>\n",
       "      <th>4</th>\n",
       "      <td>5</td>\n",
       "      <td>6.555556</td>\n",
       "    </tr>\n",
       "  </tbody>\n",
       "</table>\n",
       "</div>"
      ],
      "text/plain": [
       "   X         Y\n",
       "0  1  3.888889\n",
       "1  2  4.555556\n",
       "2  3  5.222222\n",
       "3  4  5.888889\n",
       "4  5  6.555556"
      ]
     },
     "execution_count": 3,
     "metadata": {},
     "output_type": "execute_result"
    }
   ],
   "source": [
    "df.head()"
   ]
  },
  {
   "cell_type": "markdown",
   "id": "206c438b",
   "metadata": {
    "papermill": {
     "duration": 0.039187,
     "end_time": "2022-07-21T12:40:21.237303",
     "exception": false,
     "start_time": "2022-07-21T12:40:21.198116",
     "status": "completed"
    },
    "tags": []
   },
   "source": [
    "## Setting up the data"
   ]
  },
  {
   "cell_type": "markdown",
   "id": "74de3dc8",
   "metadata": {
    "execution": {
     "iopub.execute_input": "2022-07-20T19:59:18.242006Z",
     "iopub.status.busy": "2022-07-20T19:59:18.241605Z",
     "iopub.status.idle": "2022-07-20T19:59:18.266691Z",
     "shell.execute_reply": "2022-07-20T19:59:18.265524Z",
     "shell.execute_reply.started": "2022-07-20T19:59:18.241973Z"
    },
    "papermill": {
     "duration": 0.039161,
     "end_time": "2022-07-21T12:40:21.874652",
     "exception": false,
     "start_time": "2022-07-21T12:40:21.835491",
     "status": "completed"
    },
    "tags": []
   },
   "source": [
    "**Train Test Split**"
   ]
  },
  {
   "cell_type": "code",
   "execution_count": 4,
   "id": "09e3dad9",
   "metadata": {
    "execution": {
     "iopub.execute_input": "2022-07-21T12:40:21.955987Z",
     "iopub.status.busy": "2022-07-21T12:40:21.955263Z",
     "iopub.status.idle": "2022-07-21T12:40:21.961102Z",
     "shell.execute_reply": "2022-07-21T12:40:21.960247Z"
    },
    "papermill": {
     "duration": 0.048834,
     "end_time": "2022-07-21T12:40:21.963154",
     "exception": false,
     "start_time": "2022-07-21T12:40:21.914320",
     "status": "completed"
    },
    "tags": []
   },
   "outputs": [],
   "source": [
    "X = df.drop('X', axis=1).values\n",
    "y = df[\"Y\"].values"
   ]
  },
  {
   "cell_type": "code",
   "execution_count": 5,
   "id": "0f74459a",
   "metadata": {
    "execution": {
     "iopub.execute_input": "2022-07-21T12:40:22.044722Z",
     "iopub.status.busy": "2022-07-21T12:40:22.044027Z",
     "iopub.status.idle": "2022-07-21T12:40:22.049945Z",
     "shell.execute_reply": "2022-07-21T12:40:22.049139Z"
    },
    "papermill": {
     "duration": 0.049045,
     "end_time": "2022-07-21T12:40:22.052024",
     "exception": false,
     "start_time": "2022-07-21T12:40:22.002979",
     "status": "completed"
    },
    "tags": []
   },
   "outputs": [],
   "source": [
    "X_train, X_test, y_train, y_test = train_test_split(X, y, test_size=0.2, random_state=42)"
   ]
  },
  {
   "cell_type": "markdown",
   "id": "c7a53b8d",
   "metadata": {
    "papermill": {
     "duration": 0.040542,
     "end_time": "2022-07-21T12:40:22.132147",
     "exception": false,
     "start_time": "2022-07-21T12:40:22.091605",
     "status": "completed"
    },
    "tags": []
   },
   "source": [
    "## Training models and Evaluating Model Performance"
   ]
  },
  {
   "cell_type": "code",
   "execution_count": 6,
   "id": "0d08d08c",
   "metadata": {
    "execution": {
     "iopub.execute_input": "2022-07-21T12:40:22.214376Z",
     "iopub.status.busy": "2022-07-21T12:40:22.213567Z",
     "iopub.status.idle": "2022-07-21T12:40:22.219187Z",
     "shell.execute_reply": "2022-07-21T12:40:22.218322Z"
    },
    "papermill": {
     "duration": 0.049427,
     "end_time": "2022-07-21T12:40:22.221275",
     "exception": false,
     "start_time": "2022-07-21T12:40:22.171848",
     "status": "completed"
    },
    "tags": []
   },
   "outputs": [],
   "source": [
    "scaler = StandardScaler()\n",
    "X_train = scaler.fit_transform(X_train)\n",
    "X_test = scaler.transform(X_test)"
   ]
  },
  {
   "cell_type": "markdown",
   "id": "1686d8d4",
   "metadata": {},
   "source": [
    "### Linear"
   ]
  },
  {
   "cell_type": "code",
   "execution_count": 7,
   "id": "f6d42068",
   "metadata": {
    "execution": {
     "iopub.execute_input": "2022-07-21T12:40:22.302842Z",
     "iopub.status.busy": "2022-07-21T12:40:22.302179Z",
     "iopub.status.idle": "2022-07-21T12:40:23.105960Z",
     "shell.execute_reply": "2022-07-21T12:40:23.104452Z"
    },
    "papermill": {
     "duration": 0.848182,
     "end_time": "2022-07-21T12:40:23.109203",
     "exception": false,
     "start_time": "2022-07-21T12:40:22.261021",
     "status": "completed"
    },
    "tags": []
   },
   "outputs": [
    {
     "name": "stdout",
     "output_type": "stream",
     "text": [
      "SVR(kernel='linear')\n",
      "Coef: [[57.50065141]]\n",
      "MAE:  0.06100645448002902\n",
      "RMSE:  0.06878777377729725\n",
      "R²:  0.9999986132482239\n",
      "\n",
      "\n",
      "LinearSVR()\n",
      "Coef: [57.56837883]\n",
      "MAE:  6.42582283679379e-13\n",
      "RMSE:  7.334747197277987e-13\n",
      "R²:  1.0\n",
      "\n",
      "\n",
      "NuSVR(kernel='linear')\n",
      "Coef: [[57.56837893]]\n",
      "MAE:  3.9491698940648706e-07\n",
      "RMSE:  4.075486347742516e-07\n",
      "R²:  1.0\n",
      "\n",
      "\n",
      "SGDRegressor()\n",
      "Coef: [57.55612455]\n",
      "MAE:  0.013932466150080206\n",
      "RMSE:  0.017200856892128125\n",
      "R²:  0.9999999132885622\n",
      "\n",
      "\n",
      "BayesianRidge()\n",
      "Coef: [57.56837883]\n",
      "MAE:  5.505373934511226e-13\n",
      "RMSE:  6.208785286568838e-13\n",
      "R²:  1.0\n",
      "\n",
      "\n",
      "ARDRegression()\n",
      "Coef: [57.56837883]\n",
      "MAE:  5.447346277757485e-13\n",
      "RMSE:  6.138767405202209e-13\n",
      "R²:  1.0\n",
      "\n",
      "\n",
      "PassiveAggressiveRegressor()\n",
      "Coef: [57.52664912]\n",
      "MAE:  0.04022881713976726\n",
      "RMSE:  0.04813804474007204\n",
      "R²:  0.9999993208696887\n",
      "\n",
      "\n",
      "TheilSenRegressor()\n",
      "Coef: [57.56837883]\n",
      "MAE:  4.86706971022007e-13\n",
      "RMSE:  5.675087235392806e-13\n",
      "R²:  1.0\n",
      "\n",
      "\n",
      "LinearRegression()\n",
      "Coef: [57.56837883]\n",
      "MAE:  6.069219201284189e-16\n",
      "RMSE:  1.7502599374402256e-15\n",
      "R²:  1.0\n",
      "\n",
      "\n",
      "Ridge()\n",
      "Coef: [57.32950589]\n",
      "MAE:  0.21511756571942572\n",
      "RMSE:  0.24258058496462964\n",
      "R²:  0.9999827540032432\n",
      "\n",
      "\n",
      "RidgeCV()\n",
      "Coef: [57.544402]\n",
      "MAE:  0.02159239207183566\n",
      "RMSE:  0.02434898834065132\n",
      "R²:  0.999999826244698\n",
      "\n",
      "\n",
      "ElasticNet()\n",
      "Coef: [38.04558589]\n",
      "MAE:  17.58129519759436\n",
      "RMSE:  19.825814127289316\n",
      "R²:  0.8848037656753284\n",
      "\n",
      "\n",
      "ElasticNetCV()\n",
      "Coef: [54.38022884]\n",
      "MAE:  2.871095663978726\n",
      "RMSE:  3.2376345619574782\n",
      "R²:  0.9969279245539606\n",
      "\n",
      "\n",
      "Lasso()\n",
      "Coef: [56.56837883]\n",
      "MAE:  0.9005522544000103\n",
      "RMSE:  1.0155214053904833\n",
      "R²:  0.9996977582980687\n",
      "\n",
      "\n",
      "LassoCV()\n",
      "Coef: [57.51081045]\n",
      "MAE:  0.05184333333838003\n",
      "RMSE:  0.05846192097647387\n",
      "R²:  0.9999989983352624\n",
      "\n",
      "\n",
      "HuberRegressor()\n",
      "Coef: [57.56837883]\n",
      "MAE:  3.42906888069668e-11\n",
      "RMSE:  4.2371570519584583e-11\n",
      "R²:  1.0\n",
      "\n",
      "\n",
      "PoissonRegressor()\n",
      "Coef: [0.59800599]\n",
      "MAE:  12.234006383000166\n",
      "RMSE:  15.214493548106189\n",
      "R²:  0.9321591590341682\n",
      "\n",
      "\n",
      "TweedieRegressor()\n",
      "Coef: [28.78418942]\n",
      "MAE:  25.92166666919155\n",
      "RMSE:  29.230960488238754\n",
      "R²:  0.7495838155926188\n",
      "\n",
      "\n",
      "GammaRegressor()\n",
      "Coef: [0.32820161]\n",
      "MAE:  26.505259967347047\n",
      "RMSE:  29.97258464011219\n",
      "R²:  0.736715911954597\n",
      "\n",
      "\n"
     ]
    }
   ],
   "source": [
    "regressors = [\n",
    "    svm.SVR(kernel='linear'),\n",
    "    svm.LinearSVR(),\n",
    "    svm.NuSVR(kernel='linear'),\n",
    "    linear_model.SGDRegressor(),\n",
    "    linear_model.BayesianRidge(),\n",
    "    linear_model.ARDRegression(),\n",
    "    linear_model.PassiveAggressiveRegressor(),\n",
    "    linear_model.TheilSenRegressor(),\n",
    "    linear_model.LinearRegression(),\n",
    "    linear_model.Ridge(),\n",
    "    linear_model.RidgeCV(),\n",
    "    linear_model.ElasticNet(),\n",
    "    linear_model.ElasticNetCV(),\n",
    "    linear_model.Lasso(),\n",
    "    linear_model.LassoCV(),\n",
    "    linear_model.HuberRegressor(),\n",
    "    linear_model.PoissonRegressor(),\n",
    "    linear_model.TweedieRegressor(),\n",
    "    linear_model.GammaRegressor()    \n",
    "]\n",
    "regression = pd.DataFrame(columns=['Regressor', 'R²'], index=None)\n",
    "for item in regressors:\n",
    "    print(item)\n",
    "    reg = item\n",
    "    reg.fit(X_train, y_train)\n",
    "    print(\"Coef:\", reg.coef_)\n",
    "    predictions = reg.predict(X_test)\n",
    "    regression = pd.concat([pd.DataFrame([[item, metrics.r2_score(y_test, predictions)]], columns=regression.columns, index=None), regression], ignore_index=True)\n",
    "    print(\"MAE: \", metrics.mean_absolute_error(y_test, predictions))\n",
    "    print(\"RMSE: \", np.sqrt(metrics.mean_squared_error(y_test, predictions)))\n",
    "    print('R²: ', metrics.r2_score(y_test, predictions))\n",
    "    print('\\n')"
   ]
  },
  {
   "cell_type": "markdown",
   "id": "8e64a428",
   "metadata": {},
   "source": [
    "### Non-Linear"
   ]
  },
  {
   "cell_type": "code",
   "execution_count": 8,
   "id": "dde0a3f7",
   "metadata": {},
   "outputs": [
    {
     "name": "stdout",
     "output_type": "stream",
     "text": [
      "SVR()\n",
      "MAE:  9.820313311348038\n",
      "RMSE:  17.47913284538911\n",
      "R²:  0.9104602271406792\n",
      "\n",
      "\n",
      "SVR(kernel='poly')\n",
      "MAE:  23.13069263420566\n",
      "RMSE:  25.161650994947706\n",
      "R²:  0.814452763495485\n",
      "\n",
      "\n",
      "NuSVR()\n",
      "MAE:  11.145460033792883\n",
      "RMSE:  18.684714115380046\n",
      "R²:  0.8976826845582709\n",
      "\n",
      "\n",
      "NuSVR(kernel='poly')\n",
      "MAE:  23.07613080581341\n",
      "RMSE:  25.228545227282726\n",
      "R²:  0.813464868134915\n",
      "\n",
      "\n",
      "DecisionTreeRegressor(max_depth=3)\n",
      "MAE:  6.887453156667684\n",
      "RMSE:  7.870692924832792\n",
      "R²:  0.9818447530940412\n",
      "\n",
      "\n",
      "ExtraTreeRegressor()\n",
      "MAE:  0.7999999990500011\n",
      "RMSE:  0.8606629659056346\n",
      "R²:  0.999782908682811\n",
      "\n",
      "\n",
      "RandomForestRegressor(n_estimators=300)\n",
      "MAE:  0.3919259198634446\n",
      "RMSE:  0.4514195236315537\n",
      "R²:  0.9999402776486185\n",
      "\n",
      "\n",
      "GradientBoostingRegressor(n_estimators=300)\n",
      "MAE:  0.7043834986794878\n",
      "RMSE:  0.7336431177143166\n",
      "R²:  0.9998422585176568\n",
      "\n",
      "\n",
      "ExtraTreesRegressor(n_estimators=300)\n",
      "MAE:  0.049074071836075504\n",
      "RMSE:  0.09859465580831467\n",
      "R²:  0.9999971510621669\n",
      "\n",
      "\n",
      "BaggingRegressor(n_estimators=300)\n",
      "MAE:  0.38440740227269615\n",
      "RMSE:  0.44109506251309716\n",
      "R²:  0.9999429782403747\n",
      "\n",
      "\n",
      "AdaBoostRegressor(n_estimators=300)\n",
      "MAE:  1.4422736310019981\n",
      "RMSE:  2.078642292891376\n",
      "R²:  0.9987337025250917\n",
      "\n",
      "\n",
      "KNeighborsRegressor()\n",
      "MAE:  0.466666663083334\n",
      "RMSE:  0.6041829490163348\n",
      "R²:  0.9998930173992481\n",
      "\n",
      "\n",
      "RadiusNeighborsRegressor()\n",
      "MAE:  8.636457345183514\n",
      "RMSE:  12.281995431488465\n",
      "R²:  0.9557906545295236\n",
      "\n",
      "\n"
     ]
    }
   ],
   "source": [
    "regressors = [\n",
    "    svm.SVR(kernel='rbf'),\n",
    "    svm.SVR(kernel='poly'),\n",
    "    svm.NuSVR(kernel='rbf'),\n",
    "    svm.NuSVR(kernel='poly'),\n",
    "    tree.DecisionTreeRegressor(max_depth=3),\n",
    "    tree.ExtraTreeRegressor(),\n",
    "    ensemble.RandomForestRegressor(n_estimators=300),\n",
    "    ensemble.GradientBoostingRegressor(n_estimators=300),\n",
    "    ensemble.ExtraTreesRegressor(n_estimators=300),\n",
    "    ensemble.BaggingRegressor(n_estimators=300),\n",
    "    ensemble.AdaBoostRegressor(n_estimators=300),\n",
    "    neighbors.KNeighborsRegressor(),\n",
    "    neighbors.RadiusNeighborsRegressor(),\n",
    "]\n",
    "\n",
    "for item in regressors:\n",
    "    print(item)\n",
    "    reg = item\n",
    "    reg.fit(X_train, y_train)\n",
    "    predictions = reg.predict(X_test)\n",
    "    regression = pd.concat([pd.DataFrame([[item, metrics.r2_score(y_test, predictions)]], columns=regression.columns, index=None), regression], ignore_index=True)\n",
    "    print(\"MAE: \", metrics.mean_absolute_error(y_test, predictions))\n",
    "    print(\"RMSE: \", np.sqrt(metrics.mean_squared_error(y_test, predictions)))\n",
    "    print('R²: ', metrics.r2_score(y_test, predictions))\n",
    "    print('\\n')"
   ]
  },
  {
   "cell_type": "markdown",
   "id": "5ce9ba9d",
   "metadata": {},
   "source": [
    "### Poly"
   ]
  },
  {
   "cell_type": "code",
   "execution_count": 9,
   "id": "57bcc12b",
   "metadata": {},
   "outputs": [],
   "source": [
    "def plot_poly(X, y, degree = 1):\n",
    "    \n",
    "    var_array = []\n",
    "    i_array = []\n",
    "    plt.figure(figsize=(16, 6))\n",
    " \n",
    "    for i in range(1, degree+1):\n",
    "        poly_features = PolynomialFeatures(degree=i)\n",
    "        X_poly = poly_features.fit_transform(X)\n",
    "        lm = linear_model.LinearRegression()\n",
    "        lm.fit(X_poly, y)\n",
    "        y_pred = lm.predict(X_poly)\n",
    "        variance = (np.power(y - y_pred, 2).sum()) / (len(X) - i - 1)\n",
    "        var_array.append(variance)\n",
    "        i_array.append(i)\n",
    "        print(f\"R2 {i} degree: {metrics.r2_score(y, y_pred)}\")\n",
    "        print(f\"RMSE {i} degree: {np.sqrt(metrics.mean_squared_error(y, y_pred))}\")\n",
    "        print(f\"Variance: {variance}\")\n",
    "        print(\"--------------------------------------\")\n",
    "        \n",
    "        plt.subplot(1, 2, 1)\n",
    "        plt.scatter(X, y)\n",
    "        plt.plot(X, y_pred, label=f\"degree {i}\")\n",
    "        plt.legend()\n",
    " \n",
    "        plt.subplot(1, 2, 2)\n",
    "        plt.scatter(i, variance, label=f\"degree={i}\", s=70)\n",
    "        plt.plot(i_array, var_array, color=\"grey\")\n",
    "        plt.xlabel(\"degree, n\", fontsize=18)\n",
    "        plt.ylabel(\"variance\", fontsize=18)\n",
    "        plt.legend()"
   ]
  },
  {
   "cell_type": "code",
   "execution_count": 10,
   "id": "d9ba8232",
   "metadata": {},
   "outputs": [
    {
     "name": "stdout",
     "output_type": "stream",
     "text": [
      "R2 1 degree: 1.0\n",
      "RMSE 1 degree: 4.045950862609429e-14\n",
      "Variance: 1.6479582264412735e-27\n",
      "--------------------------------------\n",
      "R2 2 degree: 1.0\n",
      "RMSE 2 degree: 1.3552537799950399e-12\n",
      "Variance: 1.8552654628190344e-24\n",
      "--------------------------------------\n",
      "R2 3 degree: 1.0\n",
      "RMSE 3 degree: 2.642546824822718e-10\n",
      "Variance: 7.077419312210097e-20\n",
      "--------------------------------------\n"
     ]
    },
    {
     "data": {
      "image/png": "[encoded data removed]",
      "text/plain": [
       "<Figure size 1152x432 with 2 Axes>"
      ]
     },
     "metadata": {
      "needs_background": "light"
     },
     "output_type": "display_data"
    }
   ],
   "source": [
    "plot_poly(X, y, degree=3)\n",
    "#We should consider the lower degree of polynomial regression, looking at the two first without significant variance"
   ]
  },
  {
   "cell_type": "code",
   "execution_count": 11,
   "id": "ddd54293",
   "metadata": {},
   "outputs": [],
   "source": [
    "poly_feat = PolynomialFeatures(degree = 1) #Fill the degree value with the number of degrees obtained above\n",
    "X_poly = poly_feat.fit_transform(X_train)\n",
    "poly_reg = linear_model.LinearRegression()\n",
    "poly_reg.fit(X_poly, y_train)\n",
    "predictions = poly_reg.predict(poly_feat.fit_transform(X_test))\n",
    "regression = pd.concat([pd.DataFrame([['Poly_Reg', metrics.r2_score(y_test, predictions)]], columns=regression.columns, index=None), regression], ignore_index=True)"
   ]
  },
  {
   "cell_type": "code",
   "execution_count": 12,
   "id": "574309ce",
   "metadata": {},
   "outputs": [
    {
     "data": {
      "text/html": [
       "<div>\n",
       "<style scoped>\n",
       "    .dataframe tbody tr th:only-of-type {\n",
       "        vertical-align: middle;\n",
       "    }\n",
       "\n",
       "    .dataframe tbody tr th {\n",
       "        vertical-align: top;\n",
       "    }\n",
       "\n",
       "    .dataframe thead th {\n",
       "        text-align: right;\n",
       "    }\n",
       "</style>\n",
       "<table border=\"1\" class=\"dataframe\">\n",
       "  <thead>\n",
       "    <tr style=\"text-align: right;\">\n",
       "      <th></th>\n",
       "      <th>Regressor</th>\n",
       "      <th>R²</th>\n",
       "    </tr>\n",
       "  </thead>\n",
       "  <tbody>\n",
       "    <tr>\n",
       "      <th>0</th>\n",
       "      <td>Poly_Reg</td>\n",
       "      <td>1.0</td>\n",
       "    </tr>\n",
       "    <tr>\n",
       "      <th>17</th>\n",
       "      <td>HuberRegressor()</td>\n",
       "      <td>1.0</td>\n",
       "    </tr>\n",
       "    <tr>\n",
       "      <th>24</th>\n",
       "      <td>LinearRegression()</td>\n",
       "      <td>1.0</td>\n",
       "    </tr>\n",
       "    <tr>\n",
       "      <th>25</th>\n",
       "      <td>TheilSenRegressor()</td>\n",
       "      <td>1.0</td>\n",
       "    </tr>\n",
       "    <tr>\n",
       "      <th>27</th>\n",
       "      <td>ARDRegression()</td>\n",
       "      <td>1.0</td>\n",
       "    </tr>\n",
       "    <tr>\n",
       "      <th>28</th>\n",
       "      <td>BayesianRidge()</td>\n",
       "      <td>1.0</td>\n",
       "    </tr>\n",
       "    <tr>\n",
       "      <th>30</th>\n",
       "      <td>NuSVR(kernel='linear')</td>\n",
       "      <td>1.0</td>\n",
       "    </tr>\n",
       "    <tr>\n",
       "      <th>31</th>\n",
       "      <td>LinearSVR()</td>\n",
       "      <td>1.0</td>\n",
       "    </tr>\n",
       "  </tbody>\n",
       "</table>\n",
       "</div>"
      ],
      "text/plain": [
       "                 Regressor   R²\n",
       "0                 Poly_Reg  1.0\n",
       "17        HuberRegressor()  1.0\n",
       "24      LinearRegression()  1.0\n",
       "25     TheilSenRegressor()  1.0\n",
       "27         ARDRegression()  1.0\n",
       "28         BayesianRidge()  1.0\n",
       "30  NuSVR(kernel='linear')  1.0\n",
       "31             LinearSVR()  1.0"
      ]
     },
     "execution_count": 12,
     "metadata": {},
     "output_type": "execute_result"
    }
   ],
   "source": [
    "regression[regression['R²'] == regression['R²'].max()]"
   ]
  },
  {
   "cell_type": "markdown",
   "id": "d0538d23",
   "metadata": {
    "papermill": {
     "duration": 0.040951,
     "end_time": "2022-07-21T12:40:23.735350",
     "exception": false,
     "start_time": "2022-07-21T12:40:23.694399",
     "status": "completed"
    },
    "tags": []
   },
   "source": [
    "**Residuals**"
   ]
  },
  {
   "cell_type": "code",
   "execution_count": 13,
   "id": "0f119afa",
   "metadata": {
    "execution": {
     "iopub.execute_input": "2022-07-21T12:40:23.820609Z",
     "iopub.status.busy": "2022-07-21T12:40:23.820203Z",
     "iopub.status.idle": "2022-07-21T12:40:24.288757Z",
     "shell.execute_reply": "2022-07-21T12:40:24.287595Z"
    },
    "papermill": {
     "duration": 0.514057,
     "end_time": "2022-07-21T12:40:24.291309",
     "exception": false,
     "start_time": "2022-07-21T12:40:23.777252",
     "status": "completed"
    },
    "tags": []
   },
   "outputs": [
    {
     "data": {
      "text/plain": [
       "<seaborn.axisgrid.FacetGrid at 0x19e24aed3a0>"
      ]
     },
     "execution_count": 13,
     "metadata": {},
     "output_type": "execute_result"
    },
    {
     "data": {
      "image/png": "[encoded data removed]",
      "text/plain": [
       "<Figure size 360x360 with 1 Axes>"
      ]
     },
     "metadata": {
      "needs_background": "light"
     },
     "output_type": "display_data"
    }
   ],
   "source": [
    "reg = linear_model.LinearRegression() #EDIT CHOOSING THE BEST REGRESSOR ABOVE\n",
    "reg.fit(X_train, y_train)\n",
    "predictions = reg.predict(X_test)\n",
    "\n",
    "sns.displot((y_test - predictions), kde=True, bins=50)"
   ]
  }
 ],
 "metadata": {
  "kernelspec": {
   "display_name": "Python 3 (ipykernel)",
   "language": "python",
   "name": "python3"
  },
  "language_info": {
   "codemirror_mode": {
    "name": "ipython",
    "version": 3
   },
   "file_extension": ".py",
   "mimetype": "text/x-python",
   "name": "python",
   "nbconvert_exporter": "python",
   "pygments_lexer": "ipython3",
   "version": "3.9.12"
  },
  "papermill": {
   "default_parameters": {},
   "duration": 34.349284,
   "end_time": "2022-07-21T12:40:25.440848",
   "environment_variables": {},
   "exception": null,
   "input_path": "__notebook__.ipynb",
   "output_path": "__notebook__.ipynb",
   "parameters": {},
   "start_time": "2022-07-21T12:39:51.091564",
   "version": "2.3.4"
  }
 },
 "nbformat": 4,
 "nbformat_minor": 5
}
